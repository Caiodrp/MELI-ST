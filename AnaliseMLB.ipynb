{
 "cells": [
  {
   "cell_type": "markdown",
   "id": "75eaf180",
   "metadata": {},
   "source": [
    "<h1 style=\"text-align:center;\">Clusterização de produtos no Mercado Livre BR"
   ]
  },
  {
   "cell_type": "markdown",
   "id": "020ac298",
   "metadata": {},
   "source": [
    "# <a id='sumario'></a>Sumário\n",
    "1. [**Entendimento do projeto**](#entendimento-do-problema)\n",
    "2. [**Bibliotecas**](#bibliotecas)\n",
    "<br>\n",
    "3. [**Entendimento dos Dados**](#entendimento-dos-dados)       \n",
    "- 3.1 [Carregando os Dados](#carregando-os-dados)\n",
    "- 3.2 [Descritiva dos dados](#descritiva-dos-dados)\n",
    "4. [**Transformação nos dados**](#transformacao-nos-dados)\n",
    "5. [**Modelagem**](#Modelagem)\n",
    "- 5.1 [Testes de Clusters e Variáveis](#Clusters-e-variáveis)  \n",
    "- 5.2 [Kmeans](#K-means)    "
   ]
  },
  {
   "cell_type": "markdown",
   "id": "ac8a7073",
   "metadata": {},
   "source": [
    "<a id='entendimento-do-projeto'></a>\n",
    "# 1. Entendimento do projeto"
   ]
  },
  {
   "cell_type": "markdown",
   "id": "0065ef29",
   "metadata": {},
   "source": [
    "Em um mercado cada vez mais competitivo, a pesquisa de mercado é fundamental para entender as tendências, identificar oportunidades e tomar decisões informadas. Ela pode revelar informações valiosas sobre a demanda do consumidor, ajudando empresas a otimizar suas estratégias de preços, marketing e estoque para maximizar os lucros.\n",
    "\n",
    "O projeto segue um fluxo eficiente: começa com a extração de dados da **API do Mercado Livre** usando o Apache Airflow, armazena esses dados em um Data Lake na nuvem, processa os dados com um modelo de Machine Learning (**K-means**) e apresenta os resultados no Streamlit. Este fluxo é implementado em várias plataformas, incluindo AWS, GCP e uma configuração local gratuita."
   ]
  },
  {
   "cell_type": "markdown",
   "id": "35cc8b2c",
   "metadata": {},
   "source": [
    "<a id='bibliotecas'></a>\n",
    "# 2. Bibliotecas"
   ]
  },
  {
   "cell_type": "code",
   "execution_count": 1,
   "id": "0aecce1b",
   "metadata": {},
   "outputs": [],
   "source": [
    "import pandas as pd\n",
    "import gcsfs\n",
    "import json\n",
    "import matplotlib.pyplot as plt\n",
    "import seaborn as sns\n",
    "\n",
    "from google.oauth2 import service_account\n",
    "from sklearn.cluster import KMeans\n",
    "from sklearn.metrics import silhouette_score"
   ]
  },
  {
   "cell_type": "markdown",
   "id": "12f230b0",
   "metadata": {},
   "source": [
    "<a id='entendimento-dos-dados'></a>\n",
    "# 3. Entendimento dos Dados"
   ]
  },
  {
   "cell_type": "markdown",
   "id": "a675c1e9",
   "metadata": {},
   "source": [
    "A api do mercado livre apresenta várias funcionalidades incluindo os dados sobre os produtos que estão online na plataforma, e informações sobre eles avaliações e visitas. Assim o airflow extraiu essas informações e particionou os dados no Bucket, iremos usar os dados da categoria Celulares e Telefones para treianmento do modelo, utilizaremos variáveis comuns para todas categorias. Alémdos produtos, tembém carrega a lista trends, que são as maiores pesquisas por categorias feitas por usuários e clientes da plataforma."
   ]
  },
  {
   "cell_type": "markdown",
   "id": "0c670eef",
   "metadata": {},
   "source": [
    "<a id='carregando-os-dados'></a>\n",
    "## 3.1 Carregando os Dados"
   ]
  },
  {
   "cell_type": "code",
   "execution_count": 2,
   "id": "4055ac63",
   "metadata": {},
   "outputs": [],
   "source": [
    "# Chave de acesso conta de serviço google cloud\n",
    "key_path = \"C:\\\\Users\\\\user\\\\OneDrive\\\\Documentos\\\\Data Science\\\\Api\\\\Extração de dados api python\\\\Projeto api e mercado livre\\\\Chave Json conta serviço google cloud\\\\deft-approach-412320-e0afe84e0783.json\"\n",
    "\n",
    "# Cria as credenciais\n",
    "credentials = service_account.Credentials.from_service_account_file(\n",
    "    key_path,\n",
    "    scopes=[\"https://www.googleapis.com/auth/cloud-platform\"],\n",
    ")\n",
    "\n",
    "# Cria um objeto de sistema de arquivos com as credenciais\n",
    "fs = gcsfs.GCSFileSystem(project='deft-approach-412320', token=credentials)\n",
    "\n",
    "# Lendo os dados dos produtos salvos no bucket da cloud\n",
    "with fs.open('itens-meli/Celulares e Telefones/dados.json') as dados:\n",
    "    df = pd.read_json(dados)\n",
    "    \n",
    "# Lendo os dados das tendências salvos no bucket da cloud\n",
    "with fs.open('itens-meli/Celulares e Telefones/tendencias.json') as tendencias:\n",
    "    trends_data = json.load(tendencias)\n",
    "\n",
    "# Extrai apenas os valores da 'keyword' e armazena em uma lista\n",
    "trend = [item['keyword'] for sublist in trends_data for item in sublist]"
   ]
  },
  {
   "cell_type": "code",
   "execution_count": 3,
   "id": "43382649",
   "metadata": {},
   "outputs": [
    {
     "data": {
      "text/plain": [
       "['pulseira apple watch',\n",
       " 'headphone',\n",
       " 'bateria 12v',\n",
       " 'uber',\n",
       " 'intelbras',\n",
       " 'ringlinght celular',\n",
       " 'pelicula camera iphone',\n",
       " 'acessorios celulares',\n",
       " 'fone de ouvidos',\n",
       " 'cabo usb',\n",
       " 'xiaomi 14 pro titanium',\n",
       " 'vivo x100 pro',\n",
       " 'display apple watch',\n",
       " 'nubia z60 ultra',\n",
       " 'bateria a10',\n",
       " 'bateria iphone x',\n",
       " 'chip diretinho',\n",
       " 'capas celular blu 6 polegadas',\n",
       " 'numero virtual whatsapp',\n",
       " 'm1906f9sh',\n",
       " 'bateria motorola one action',\n",
       " 'telefone rural 5g',\n",
       " 'loja oficial motorola',\n",
       " 'celular guitarrinha original',\n",
       " 'tela apple watch',\n",
       " 'capa com nfc capas celular',\n",
       " 'celular tela 7 5 polegadas',\n",
       " 'telefone ks panasonic kx t7730',\n",
       " 'capa celular multilaser',\n",
       " 'pera phone original',\n",
       " 'telefone',\n",
       " 'xiaomi poco x gb',\n",
       " 'capas e peliculas',\n",
       " 'huawei',\n",
       " 'apple',\n",
       " 'pecas para celulares',\n",
       " 'a05s',\n",
       " '15 pro max',\n",
       " 'recarga celular',\n",
       " 'anel inteligente',\n",
       " 'celular xiaomi redmi c',\n",
       " 'iphone 15 pro max case',\n",
       " 'meizu 21',\n",
       " 'celular rural',\n",
       " 'celular game',\n",
       " 's8',\n",
       " 'redmi k70',\n",
       " 'loja samsung oficial',\n",
       " 'iplace',\n",
       " 'smart ring']"
      ]
     },
     "execution_count": 3,
     "metadata": {},
     "output_type": "execute_result"
    }
   ],
   "source": [
    "trend"
   ]
  },
  {
   "cell_type": "code",
   "execution_count": 4,
   "id": "a819494a",
   "metadata": {},
   "outputs": [
    {
     "data": {
      "text/html": [
       "<div>\n",
       "<style scoped>\n",
       "    .dataframe tbody tr th:only-of-type {\n",
       "        vertical-align: middle;\n",
       "    }\n",
       "\n",
       "    .dataframe tbody tr th {\n",
       "        vertical-align: top;\n",
       "    }\n",
       "\n",
       "    .dataframe thead th {\n",
       "        text-align: right;\n",
       "    }\n",
       "</style>\n",
       "<table border=\"1\" class=\"dataframe\">\n",
       "  <thead>\n",
       "    <tr style=\"text-align: right;\">\n",
       "      <th></th>\n",
       "      <th>ID do produto</th>\n",
       "      <th>Preço</th>\n",
       "      <th>Marca</th>\n",
       "      <th>Modelo</th>\n",
       "      <th>Link</th>\n",
       "      <th>Título</th>\n",
       "      <th>Categoria</th>\n",
       "      <th>Visitas</th>\n",
       "      <th>Estrelas</th>\n",
       "    </tr>\n",
       "  </thead>\n",
       "  <tbody>\n",
       "    <tr>\n",
       "      <th>0</th>\n",
       "      <td>MLB3427723135</td>\n",
       "      <td>919.00</td>\n",
       "      <td>Samsung</td>\n",
       "      <td>A14 (Exynos) Dual SIM</td>\n",
       "      <td>https://www.mercadolivre.com.br/samsung-galaxy...</td>\n",
       "      <td>Samsung Galaxy A14 5g 128gb 4gb Ram Preto</td>\n",
       "      <td>Celulares e Telefones</td>\n",
       "      <td>21989</td>\n",
       "      <td>4.8</td>\n",
       "    </tr>\n",
       "    <tr>\n",
       "      <th>1</th>\n",
       "      <td>MLB4186567120</td>\n",
       "      <td>949.05</td>\n",
       "      <td>Samsung</td>\n",
       "      <td>A24</td>\n",
       "      <td>https://www.mercadolivre.com.br/samsung-galaxy...</td>\n",
       "      <td>Samsung Galaxy A24 128 Gb Preto 4 Gb Ram</td>\n",
       "      <td>Celulares e Telefones</td>\n",
       "      <td>12596</td>\n",
       "      <td>4.8</td>\n",
       "    </tr>\n",
       "    <tr>\n",
       "      <th>2</th>\n",
       "      <td>MLB4199953938</td>\n",
       "      <td>471.96</td>\n",
       "      <td>Samsung</td>\n",
       "      <td>A03 Core Dual SIM</td>\n",
       "      <td>https://www.mercadolivre.com.br/samsung-galaxy...</td>\n",
       "      <td>Samsung Galaxy A03 Core Dual Sim 32 Gb Black 2...</td>\n",
       "      <td>Celulares e Telefones</td>\n",
       "      <td>25838</td>\n",
       "      <td>4.7</td>\n",
       "    </tr>\n",
       "    <tr>\n",
       "      <th>3</th>\n",
       "      <td>MLB3497242371</td>\n",
       "      <td>1426.98</td>\n",
       "      <td>Motorola</td>\n",
       "      <td>G54 Dual SIM (eSIM)</td>\n",
       "      <td>https://www.mercadolivre.com.br/smartphone-mot...</td>\n",
       "      <td>Smartphone Motorola Moto G54 5g 256gb 8gb Ram ...</td>\n",
       "      <td>Celulares e Telefones</td>\n",
       "      <td>25878</td>\n",
       "      <td>N/A</td>\n",
       "    </tr>\n",
       "    <tr>\n",
       "      <th>4</th>\n",
       "      <td>MLB3584941189</td>\n",
       "      <td>199.00</td>\n",
       "      <td>Positivo</td>\n",
       "      <td>P51</td>\n",
       "      <td>https://www.mercadolivre.com.br/celular-featur...</td>\n",
       "      <td>Celular Featurephone Positivo P51 4g 48mb 128m...</td>\n",
       "      <td>Celulares e Telefones</td>\n",
       "      <td>598</td>\n",
       "      <td>N/A</td>\n",
       "    </tr>\n",
       "  </tbody>\n",
       "</table>\n",
       "</div>"
      ],
      "text/plain": [
       "   ID do produto    Preço     Marca                 Modelo  \\\n",
       "0  MLB3427723135   919.00   Samsung  A14 (Exynos) Dual SIM   \n",
       "1  MLB4186567120   949.05   Samsung                    A24   \n",
       "2  MLB4199953938   471.96   Samsung      A03 Core Dual SIM   \n",
       "3  MLB3497242371  1426.98  Motorola    G54 Dual SIM (eSIM)   \n",
       "4  MLB3584941189   199.00  Positivo                    P51   \n",
       "\n",
       "                                                Link  \\\n",
       "0  https://www.mercadolivre.com.br/samsung-galaxy...   \n",
       "1  https://www.mercadolivre.com.br/samsung-galaxy...   \n",
       "2  https://www.mercadolivre.com.br/samsung-galaxy...   \n",
       "3  https://www.mercadolivre.com.br/smartphone-mot...   \n",
       "4  https://www.mercadolivre.com.br/celular-featur...   \n",
       "\n",
       "                                              Título              Categoria  \\\n",
       "0          Samsung Galaxy A14 5g 128gb 4gb Ram Preto  Celulares e Telefones   \n",
       "1           Samsung Galaxy A24 128 Gb Preto 4 Gb Ram  Celulares e Telefones   \n",
       "2  Samsung Galaxy A03 Core Dual Sim 32 Gb Black 2...  Celulares e Telefones   \n",
       "3  Smartphone Motorola Moto G54 5g 256gb 8gb Ram ...  Celulares e Telefones   \n",
       "4  Celular Featurephone Positivo P51 4g 48mb 128m...  Celulares e Telefones   \n",
       "\n",
       "  Visitas Estrelas  \n",
       "0   21989      4.8  \n",
       "1   12596      4.8  \n",
       "2   25838      4.7  \n",
       "3   25878      N/A  \n",
       "4     598      N/A  "
      ]
     },
     "execution_count": 4,
     "metadata": {},
     "output_type": "execute_result"
    }
   ],
   "source": [
    "df.head()"
   ]
  },
  {
   "cell_type": "markdown",
   "id": "8f286119",
   "metadata": {},
   "source": [
    "<a id='descritiva-dos-dados'></a>\n",
    "## 3.2 Descritiva dos dados"
   ]
  },
  {
   "cell_type": "code",
   "execution_count": 5,
   "id": "a5b84e28",
   "metadata": {},
   "outputs": [
    {
     "data": {
      "text/html": [
       "<div>\n",
       "<style scoped>\n",
       "    .dataframe tbody tr th:only-of-type {\n",
       "        vertical-align: middle;\n",
       "    }\n",
       "\n",
       "    .dataframe tbody tr th {\n",
       "        vertical-align: top;\n",
       "    }\n",
       "\n",
       "    .dataframe thead th {\n",
       "        text-align: right;\n",
       "    }\n",
       "</style>\n",
       "<table border=\"1\" class=\"dataframe\">\n",
       "  <thead>\n",
       "    <tr style=\"text-align: right;\">\n",
       "      <th></th>\n",
       "      <th>Preço</th>\n",
       "    </tr>\n",
       "  </thead>\n",
       "  <tbody>\n",
       "    <tr>\n",
       "      <th>count</th>\n",
       "      <td>998.000000</td>\n",
       "    </tr>\n",
       "    <tr>\n",
       "      <th>mean</th>\n",
       "      <td>947.520481</td>\n",
       "    </tr>\n",
       "    <tr>\n",
       "      <th>std</th>\n",
       "      <td>1051.689793</td>\n",
       "    </tr>\n",
       "    <tr>\n",
       "      <th>min</th>\n",
       "      <td>8.900000</td>\n",
       "    </tr>\n",
       "    <tr>\n",
       "      <th>25%</th>\n",
       "      <td>175.412500</td>\n",
       "    </tr>\n",
       "    <tr>\n",
       "      <th>50%</th>\n",
       "      <td>746.875000</td>\n",
       "    </tr>\n",
       "    <tr>\n",
       "      <th>75%</th>\n",
       "      <td>1298.750000</td>\n",
       "    </tr>\n",
       "    <tr>\n",
       "      <th>max</th>\n",
       "      <td>10481.050000</td>\n",
       "    </tr>\n",
       "  </tbody>\n",
       "</table>\n",
       "</div>"
      ],
      "text/plain": [
       "              Preço\n",
       "count    998.000000\n",
       "mean     947.520481\n",
       "std     1051.689793\n",
       "min        8.900000\n",
       "25%      175.412500\n",
       "50%      746.875000\n",
       "75%     1298.750000\n",
       "max    10481.050000"
      ]
     },
     "execution_count": 5,
     "metadata": {},
     "output_type": "execute_result"
    }
   ],
   "source": [
    "df.describe()"
   ]
  },
  {
   "cell_type": "code",
   "execution_count": 6,
   "id": "2267fc35",
   "metadata": {},
   "outputs": [
    {
     "name": "stdout",
     "output_type": "stream",
     "text": [
      "<class 'pandas.core.frame.DataFrame'>\n",
      "RangeIndex: 998 entries, 0 to 997\n",
      "Data columns (total 9 columns):\n",
      " #   Column         Non-Null Count  Dtype  \n",
      "---  ------         --------------  -----  \n",
      " 0   ID do produto  998 non-null    object \n",
      " 1   Preço          998 non-null    float64\n",
      " 2   Marca          995 non-null    object \n",
      " 3   Modelo         997 non-null    object \n",
      " 4   Link           998 non-null    object \n",
      " 5   Título         998 non-null    object \n",
      " 6   Categoria      998 non-null    object \n",
      " 7   Visitas        998 non-null    object \n",
      " 8   Estrelas       998 non-null    object \n",
      "dtypes: float64(1), object(8)\n",
      "memory usage: 70.3+ KB\n"
     ]
    }
   ],
   "source": [
    "df.info()"
   ]
  },
  {
   "cell_type": "markdown",
   "id": "9ecb3ca5",
   "metadata": {},
   "source": [
    "<a id='transformacao-nos-dados'></a>\n",
    "# 4. Transformação nos dados"
   ]
  },
  {
   "cell_type": "code",
   "execution_count": 7,
   "id": "267522f1",
   "metadata": {},
   "outputs": [],
   "source": [
    "# Remove as linhas com valores NaN\n",
    "df = df.dropna()"
   ]
  },
  {
   "cell_type": "code",
   "execution_count": 8,
   "id": "7b87c257",
   "metadata": {},
   "outputs": [
    {
     "data": {
      "text/plain": [
       "853"
      ]
     },
     "execution_count": 8,
     "metadata": {},
     "output_type": "execute_result"
    }
   ],
   "source": [
    "# Dados NaN em string\n",
    "(df['Visitas']=='N/A').sum()\n",
    "(df['Estrelas']=='N/A').sum()"
   ]
  },
  {
   "cell_type": "code",
   "execution_count": 9,
   "id": "5ec2d687",
   "metadata": {},
   "outputs": [],
   "source": [
    "# Imputa 'N/A' com -1\n",
    "df['Visitas'].replace('N/A', -1, inplace=True)\n",
    "df['Estrelas'].replace('N/A', -1, inplace=True)"
   ]
  },
  {
   "cell_type": "code",
   "execution_count": 10,
   "id": "d02ea6ef",
   "metadata": {},
   "outputs": [],
   "source": [
    "# Cria novas colunas para as versões padronizadas\n",
    "df['Visitas_pad'] = (df['Visitas'] - df['Visitas'].mean()) / df['Visitas'].std()\n",
    "df['Estrelas_pad'] = (df['Estrelas'] - df['Estrelas'].mean()) / df['Estrelas'].std()\n",
    "df['Preço_pad'] = (df['Preço'] - df['Preço'].mean()) / df['Preço'].std()\n",
    "\n",
    "# Cria as novas colunas baseadas nas colunas padronizadas\n",
    "df['preco_por_visita'] = df['Preço_pad'] / df['Visitas_pad']\n",
    "df['preco_por_estrela'] = df['Preço_pad'] / df['Estrelas_pad']"
   ]
  },
  {
   "cell_type": "code",
   "execution_count": 11,
   "id": "01e454fd",
   "metadata": {},
   "outputs": [
    {
     "data": {
      "text/html": [
       "<div>\n",
       "<style scoped>\n",
       "    .dataframe tbody tr th:only-of-type {\n",
       "        vertical-align: middle;\n",
       "    }\n",
       "\n",
       "    .dataframe tbody tr th {\n",
       "        vertical-align: top;\n",
       "    }\n",
       "\n",
       "    .dataframe thead th {\n",
       "        text-align: right;\n",
       "    }\n",
       "</style>\n",
       "<table border=\"1\" class=\"dataframe\">\n",
       "  <thead>\n",
       "    <tr style=\"text-align: right;\">\n",
       "      <th></th>\n",
       "      <th>ID do produto</th>\n",
       "      <th>Preço</th>\n",
       "      <th>Marca</th>\n",
       "      <th>Modelo</th>\n",
       "      <th>Link</th>\n",
       "      <th>Título</th>\n",
       "      <th>Categoria</th>\n",
       "      <th>Visitas</th>\n",
       "      <th>Estrelas</th>\n",
       "      <th>Visitas_pad</th>\n",
       "      <th>Estrelas_pad</th>\n",
       "      <th>Preço_pad</th>\n",
       "      <th>preco_por_visita</th>\n",
       "      <th>preco_por_estrela</th>\n",
       "    </tr>\n",
       "  </thead>\n",
       "  <tbody>\n",
       "    <tr>\n",
       "      <th>0</th>\n",
       "      <td>MLB3427723135</td>\n",
       "      <td>919.00</td>\n",
       "      <td>Samsung</td>\n",
       "      <td>A14 (Exynos) Dual SIM</td>\n",
       "      <td>https://www.mercadolivre.com.br/samsung-galaxy...</td>\n",
       "      <td>Samsung Galaxy A14 5g 128gb 4gb Ram Preto</td>\n",
       "      <td>Celulares e Telefones</td>\n",
       "      <td>21989</td>\n",
       "      <td>4.8</td>\n",
       "      <td>3.385748</td>\n",
       "      <td>3.120813</td>\n",
       "      <td>-0.029701</td>\n",
       "      <td>-0.008772</td>\n",
       "      <td>-0.009517</td>\n",
       "    </tr>\n",
       "    <tr>\n",
       "      <th>1</th>\n",
       "      <td>MLB4186567120</td>\n",
       "      <td>949.05</td>\n",
       "      <td>Samsung</td>\n",
       "      <td>A24</td>\n",
       "      <td>https://www.mercadolivre.com.br/samsung-galaxy...</td>\n",
       "      <td>Samsung Galaxy A24 128 Gb Preto 4 Gb Ram</td>\n",
       "      <td>Celulares e Telefones</td>\n",
       "      <td>12596</td>\n",
       "      <td>4.8</td>\n",
       "      <td>1.848735</td>\n",
       "      <td>3.120813</td>\n",
       "      <td>-0.001139</td>\n",
       "      <td>-0.000616</td>\n",
       "      <td>-0.000365</td>\n",
       "    </tr>\n",
       "    <tr>\n",
       "      <th>2</th>\n",
       "      <td>MLB4199953938</td>\n",
       "      <td>471.96</td>\n",
       "      <td>Samsung</td>\n",
       "      <td>A03 Core Dual SIM</td>\n",
       "      <td>https://www.mercadolivre.com.br/samsung-galaxy...</td>\n",
       "      <td>Samsung Galaxy A03 Core Dual Sim 32 Gb Black 2...</td>\n",
       "      <td>Celulares e Telefones</td>\n",
       "      <td>25838</td>\n",
       "      <td>4.7</td>\n",
       "      <td>4.015575</td>\n",
       "      <td>3.060842</td>\n",
       "      <td>-0.454604</td>\n",
       "      <td>-0.113210</td>\n",
       "      <td>-0.148523</td>\n",
       "    </tr>\n",
       "    <tr>\n",
       "      <th>3</th>\n",
       "      <td>MLB3497242371</td>\n",
       "      <td>1426.98</td>\n",
       "      <td>Motorola</td>\n",
       "      <td>G54 Dual SIM (eSIM)</td>\n",
       "      <td>https://www.mercadolivre.com.br/smartphone-mot...</td>\n",
       "      <td>Smartphone Motorola Moto G54 5g 256gb 8gb Ram ...</td>\n",
       "      <td>Celulares e Telefones</td>\n",
       "      <td>25878</td>\n",
       "      <td>-1.0</td>\n",
       "      <td>4.022120</td>\n",
       "      <td>-0.357472</td>\n",
       "      <td>0.453125</td>\n",
       "      <td>0.112658</td>\n",
       "      <td>-1.267581</td>\n",
       "    </tr>\n",
       "    <tr>\n",
       "      <th>4</th>\n",
       "      <td>MLB3584941189</td>\n",
       "      <td>199.00</td>\n",
       "      <td>Positivo</td>\n",
       "      <td>P51</td>\n",
       "      <td>https://www.mercadolivre.com.br/celular-featur...</td>\n",
       "      <td>Celular Featurephone Positivo P51 4g 48mb 128m...</td>\n",
       "      <td>Celulares e Telefones</td>\n",
       "      <td>598</td>\n",
       "      <td>-1.0</td>\n",
       "      <td>-0.114544</td>\n",
       "      <td>-0.357472</td>\n",
       "      <td>-0.714048</td>\n",
       "      <td>6.233853</td>\n",
       "      <td>1.997492</td>\n",
       "    </tr>\n",
       "  </tbody>\n",
       "</table>\n",
       "</div>"
      ],
      "text/plain": [
       "   ID do produto    Preço     Marca                 Modelo  \\\n",
       "0  MLB3427723135   919.00   Samsung  A14 (Exynos) Dual SIM   \n",
       "1  MLB4186567120   949.05   Samsung                    A24   \n",
       "2  MLB4199953938   471.96   Samsung      A03 Core Dual SIM   \n",
       "3  MLB3497242371  1426.98  Motorola    G54 Dual SIM (eSIM)   \n",
       "4  MLB3584941189   199.00  Positivo                    P51   \n",
       "\n",
       "                                                Link  \\\n",
       "0  https://www.mercadolivre.com.br/samsung-galaxy...   \n",
       "1  https://www.mercadolivre.com.br/samsung-galaxy...   \n",
       "2  https://www.mercadolivre.com.br/samsung-galaxy...   \n",
       "3  https://www.mercadolivre.com.br/smartphone-mot...   \n",
       "4  https://www.mercadolivre.com.br/celular-featur...   \n",
       "\n",
       "                                              Título              Categoria  \\\n",
       "0          Samsung Galaxy A14 5g 128gb 4gb Ram Preto  Celulares e Telefones   \n",
       "1           Samsung Galaxy A24 128 Gb Preto 4 Gb Ram  Celulares e Telefones   \n",
       "2  Samsung Galaxy A03 Core Dual Sim 32 Gb Black 2...  Celulares e Telefones   \n",
       "3  Smartphone Motorola Moto G54 5g 256gb 8gb Ram ...  Celulares e Telefones   \n",
       "4  Celular Featurephone Positivo P51 4g 48mb 128m...  Celulares e Telefones   \n",
       "\n",
       "   Visitas  Estrelas  Visitas_pad  Estrelas_pad  Preço_pad  preco_por_visita  \\\n",
       "0    21989       4.8     3.385748      3.120813  -0.029701         -0.008772   \n",
       "1    12596       4.8     1.848735      3.120813  -0.001139         -0.000616   \n",
       "2    25838       4.7     4.015575      3.060842  -0.454604         -0.113210   \n",
       "3    25878      -1.0     4.022120     -0.357472   0.453125          0.112658   \n",
       "4      598      -1.0    -0.114544     -0.357472  -0.714048          6.233853   \n",
       "\n",
       "   preco_por_estrela  \n",
       "0          -0.009517  \n",
       "1          -0.000365  \n",
       "2          -0.148523  \n",
       "3          -1.267581  \n",
       "4           1.997492  "
      ]
     },
     "execution_count": 11,
     "metadata": {},
     "output_type": "execute_result"
    }
   ],
   "source": [
    "df.head()"
   ]
  },
  {
   "cell_type": "code",
   "execution_count": 12,
   "id": "bf1f23b1",
   "metadata": {},
   "outputs": [],
   "source": [
    "df['Visitas/Estrelas'] = df['Visitas'] / df['Estrelas']"
   ]
  },
  {
   "cell_type": "code",
   "execution_count": 13,
   "id": "cf8afc33",
   "metadata": {},
   "outputs": [
    {
     "data": {
      "text/html": [
       "<div>\n",
       "<style scoped>\n",
       "    .dataframe tbody tr th:only-of-type {\n",
       "        vertical-align: middle;\n",
       "    }\n",
       "\n",
       "    .dataframe tbody tr th {\n",
       "        vertical-align: top;\n",
       "    }\n",
       "\n",
       "    .dataframe thead th {\n",
       "        text-align: right;\n",
       "    }\n",
       "</style>\n",
       "<table border=\"1\" class=\"dataframe\">\n",
       "  <thead>\n",
       "    <tr style=\"text-align: right;\">\n",
       "      <th></th>\n",
       "      <th>ID do produto</th>\n",
       "      <th>Preço</th>\n",
       "      <th>Marca</th>\n",
       "      <th>Modelo</th>\n",
       "      <th>Link</th>\n",
       "      <th>Título</th>\n",
       "      <th>Categoria</th>\n",
       "      <th>Visitas</th>\n",
       "      <th>Estrelas</th>\n",
       "      <th>Visitas_pad</th>\n",
       "      <th>Estrelas_pad</th>\n",
       "      <th>Preço_pad</th>\n",
       "      <th>preco_por_visita</th>\n",
       "      <th>preco_por_estrela</th>\n",
       "      <th>Visitas/Estrelas</th>\n",
       "    </tr>\n",
       "  </thead>\n",
       "  <tbody>\n",
       "    <tr>\n",
       "      <th>0</th>\n",
       "      <td>MLB3427723135</td>\n",
       "      <td>919.00</td>\n",
       "      <td>Samsung</td>\n",
       "      <td>A14 (Exynos) Dual SIM</td>\n",
       "      <td>https://www.mercadolivre.com.br/samsung-galaxy...</td>\n",
       "      <td>Samsung Galaxy A14 5g 128gb 4gb Ram Preto</td>\n",
       "      <td>Celulares e Telefones</td>\n",
       "      <td>21989</td>\n",
       "      <td>4.8</td>\n",
       "      <td>3.385748</td>\n",
       "      <td>3.120813</td>\n",
       "      <td>-0.029701</td>\n",
       "      <td>-0.008772</td>\n",
       "      <td>-0.009517</td>\n",
       "      <td>4581.041667</td>\n",
       "    </tr>\n",
       "    <tr>\n",
       "      <th>1</th>\n",
       "      <td>MLB4186567120</td>\n",
       "      <td>949.05</td>\n",
       "      <td>Samsung</td>\n",
       "      <td>A24</td>\n",
       "      <td>https://www.mercadolivre.com.br/samsung-galaxy...</td>\n",
       "      <td>Samsung Galaxy A24 128 Gb Preto 4 Gb Ram</td>\n",
       "      <td>Celulares e Telefones</td>\n",
       "      <td>12596</td>\n",
       "      <td>4.8</td>\n",
       "      <td>1.848735</td>\n",
       "      <td>3.120813</td>\n",
       "      <td>-0.001139</td>\n",
       "      <td>-0.000616</td>\n",
       "      <td>-0.000365</td>\n",
       "      <td>2624.166667</td>\n",
       "    </tr>\n",
       "    <tr>\n",
       "      <th>2</th>\n",
       "      <td>MLB4199953938</td>\n",
       "      <td>471.96</td>\n",
       "      <td>Samsung</td>\n",
       "      <td>A03 Core Dual SIM</td>\n",
       "      <td>https://www.mercadolivre.com.br/samsung-galaxy...</td>\n",
       "      <td>Samsung Galaxy A03 Core Dual Sim 32 Gb Black 2...</td>\n",
       "      <td>Celulares e Telefones</td>\n",
       "      <td>25838</td>\n",
       "      <td>4.7</td>\n",
       "      <td>4.015575</td>\n",
       "      <td>3.060842</td>\n",
       "      <td>-0.454604</td>\n",
       "      <td>-0.113210</td>\n",
       "      <td>-0.148523</td>\n",
       "      <td>5497.446809</td>\n",
       "    </tr>\n",
       "    <tr>\n",
       "      <th>3</th>\n",
       "      <td>MLB3497242371</td>\n",
       "      <td>1426.98</td>\n",
       "      <td>Motorola</td>\n",
       "      <td>G54 Dual SIM (eSIM)</td>\n",
       "      <td>https://www.mercadolivre.com.br/smartphone-mot...</td>\n",
       "      <td>Smartphone Motorola Moto G54 5g 256gb 8gb Ram ...</td>\n",
       "      <td>Celulares e Telefones</td>\n",
       "      <td>25878</td>\n",
       "      <td>-1.0</td>\n",
       "      <td>4.022120</td>\n",
       "      <td>-0.357472</td>\n",
       "      <td>0.453125</td>\n",
       "      <td>0.112658</td>\n",
       "      <td>-1.267581</td>\n",
       "      <td>-25878.000000</td>\n",
       "    </tr>\n",
       "    <tr>\n",
       "      <th>4</th>\n",
       "      <td>MLB3584941189</td>\n",
       "      <td>199.00</td>\n",
       "      <td>Positivo</td>\n",
       "      <td>P51</td>\n",
       "      <td>https://www.mercadolivre.com.br/celular-featur...</td>\n",
       "      <td>Celular Featurephone Positivo P51 4g 48mb 128m...</td>\n",
       "      <td>Celulares e Telefones</td>\n",
       "      <td>598</td>\n",
       "      <td>-1.0</td>\n",
       "      <td>-0.114544</td>\n",
       "      <td>-0.357472</td>\n",
       "      <td>-0.714048</td>\n",
       "      <td>6.233853</td>\n",
       "      <td>1.997492</td>\n",
       "      <td>-598.000000</td>\n",
       "    </tr>\n",
       "  </tbody>\n",
       "</table>\n",
       "</div>"
      ],
      "text/plain": [
       "   ID do produto    Preço     Marca                 Modelo  \\\n",
       "0  MLB3427723135   919.00   Samsung  A14 (Exynos) Dual SIM   \n",
       "1  MLB4186567120   949.05   Samsung                    A24   \n",
       "2  MLB4199953938   471.96   Samsung      A03 Core Dual SIM   \n",
       "3  MLB3497242371  1426.98  Motorola    G54 Dual SIM (eSIM)   \n",
       "4  MLB3584941189   199.00  Positivo                    P51   \n",
       "\n",
       "                                                Link  \\\n",
       "0  https://www.mercadolivre.com.br/samsung-galaxy...   \n",
       "1  https://www.mercadolivre.com.br/samsung-galaxy...   \n",
       "2  https://www.mercadolivre.com.br/samsung-galaxy...   \n",
       "3  https://www.mercadolivre.com.br/smartphone-mot...   \n",
       "4  https://www.mercadolivre.com.br/celular-featur...   \n",
       "\n",
       "                                              Título              Categoria  \\\n",
       "0          Samsung Galaxy A14 5g 128gb 4gb Ram Preto  Celulares e Telefones   \n",
       "1           Samsung Galaxy A24 128 Gb Preto 4 Gb Ram  Celulares e Telefones   \n",
       "2  Samsung Galaxy A03 Core Dual Sim 32 Gb Black 2...  Celulares e Telefones   \n",
       "3  Smartphone Motorola Moto G54 5g 256gb 8gb Ram ...  Celulares e Telefones   \n",
       "4  Celular Featurephone Positivo P51 4g 48mb 128m...  Celulares e Telefones   \n",
       "\n",
       "   Visitas  Estrelas  Visitas_pad  Estrelas_pad  Preço_pad  preco_por_visita  \\\n",
       "0    21989       4.8     3.385748      3.120813  -0.029701         -0.008772   \n",
       "1    12596       4.8     1.848735      3.120813  -0.001139         -0.000616   \n",
       "2    25838       4.7     4.015575      3.060842  -0.454604         -0.113210   \n",
       "3    25878      -1.0     4.022120     -0.357472   0.453125          0.112658   \n",
       "4      598      -1.0    -0.114544     -0.357472  -0.714048          6.233853   \n",
       "\n",
       "   preco_por_estrela  Visitas/Estrelas  \n",
       "0          -0.009517       4581.041667  \n",
       "1          -0.000365       2624.166667  \n",
       "2          -0.148523       5497.446809  \n",
       "3          -1.267581     -25878.000000  \n",
       "4           1.997492       -598.000000  "
      ]
     },
     "execution_count": 13,
     "metadata": {},
     "output_type": "execute_result"
    }
   ],
   "source": [
    "df.head()"
   ]
  },
  {
   "cell_type": "markdown",
   "id": "0aeffdc3",
   "metadata": {},
   "source": [
    "<a id='Modelagem'></a>\n",
    "# 5. Modelagem"
   ]
  },
  {
   "cell_type": "markdown",
   "id": "e9ecc694",
   "metadata": {},
   "source": [
    "<a id='Clusters-e-variáveis'></a>\n",
    "## 5.1 Testes de Clusters e Variáveis"
   ]
  },
  {
   "cell_type": "markdown",
   "id": "049a158d",
   "metadata": {},
   "source": [
    "**Regra do Cotovelo (Elbow Rule)**: É uma técnica usada para ajudar a determinar o número ideal de clusters em um algoritmo de agrupamento. O método envolve o cálculo da soma das distâncias quadradas (SSE) para diferentes números de clusters (k), e a escolha do valor de k que causa uma queda acentuada ou \"cotovelo\" no gráfico da SSE versus k.\n",
    "\n",
    "\\begin{equation}\n",
    "SSE = \\sum_{i=1}^{k} \\sum_{x \\in C_i} \\lVert x - \\mu_i \\rVert^2\n",
    "\\end{equation}\n",
    "\n",
    "Onde:\n",
    "- \\\\(SSE\\\\) é a soma das distâncias quadradas.\n",
    "- \\\\(C_i\\\\) é o i-ésimo cluster.\n",
    "- \\\\(x\\\\) é um ponto de dados no cluster.\n",
    "- \\\\(\\\\mu_i\\\\) é o centróide do cluster.\n",
    "\n",
    "**Método da Silhueta (Silhouette Method)**: É outra técnica usada para determinar o número ideal de clusters. Ele mede a qualidade do agrupamento calculando a distância média entre cada ponto de dados e todos os outros pontos no mesmo cluster (coesão), e a distância média entre cada ponto de dados e todos os outros pontos no cluster mais próximo (separação). O valor da silhueta varia de -1 a 1, onde um valor alto indica que o ponto de dados está bem combinado com seu próprio cluster e mal combinado com os clusters vizinhos.\n",
    "\n",
    "\\begin{equation}\n",
    "s(i) = \\frac{b(i) - a(i)}{\\max\\{a(i), b(i)\\}}\n",
    "\\end{equation}\n",
    "\n",
    "Onde:\n",
    "- \\\\(s(i)\\\\) é o coeficiente de silhueta para o ponto de dados i.\n",
    "- \\\\(a(i)\\\\) é a distância média de i para os pontos de dados no mesmo cluster.\n",
    "- \\\\(b(i)\\\\) é a menor distância média de i para os pontos de dados em qualquer outro cluster.\n"
   ]
  },
  {
   "cell_type": "code",
   "execution_count": 14,
   "id": "4c887d11",
   "metadata": {},
   "outputs": [
    {
     "data": {
      "image/png": "[encoded data removed]",
      "text/plain": [
       "<Figure size 1000x500 with 1 Axes>"
      ]
     },
     "metadata": {},
     "output_type": "display_data"
    },
    {
     "data": {
      "image/png": "[encoded data removed]",
      "text/plain": [
       "<Figure size 1000x500 with 1 Axes>"
      ]
     },
     "metadata": {},
     "output_type": "display_data"
    }
   ],
   "source": [
    "# Conjunto de dados treino\n",
    "X = df[['Preço', 'Visitas','Estrelas']]\n",
    "\n",
    "# Lista para armazenar os valores de WCSS (Within-Cluster Sum of Square)\n",
    "wcss = []\n",
    "# Lista para armazenar os valores do coeficiente de silhueta\n",
    "silhouette_scores = []\n",
    "\n",
    "# Calcula o WCSS e o coeficiente de silhueta para diferentes números de clusters\n",
    "for i in range(2, 6):\n",
    "    kmeans = KMeans(n_clusters=i, n_init=10, random_state=123).fit(X)\n",
    "    wcss.append(kmeans.inertia_)\n",
    "    silhouette_scores.append(silhouette_score(X, kmeans.labels_))\n",
    "\n",
    "# Plota a regra do cotovelo\n",
    "plt.figure(figsize=(10,5))\n",
    "plt.plot(range(2, 6), wcss, marker='o')\n",
    "plt.title('Regra do Cotovelo')\n",
    "plt.xlabel('Número de clusters')\n",
    "plt.ylabel('WCSS')\n",
    "plt.show()\n",
    "\n",
    "# Plota o coeficiente de silhueta\n",
    "plt.figure(figsize=(10,5))\n",
    "plt.plot(range(2, 6), silhouette_scores, marker='o')\n",
    "plt.title('Coeficiente de Silhueta')\n",
    "plt.xlabel('Número de clusters')\n",
    "plt.ylabel('Coeficiente de Silhueta')\n",
    "plt.show()"
   ]
  },
  {
   "cell_type": "markdown",
   "id": "d51581c1",
   "metadata": {},
   "source": [
    "- Observa-se que **3 grupos** tendem a apresentar ótimos resultados de separação, o que encaixa com a ideia do projeto de separar em produtos e as variáveis não trasnformadas e não padronizadas forneceram melhor separação e entendimento dos clusters. Por isso vamos definir em 3 clusters e as variáveis \"Preço\", \"Visitas\" e \"Estrelas\""
   ]
  },
  {
   "cell_type": "markdown",
   "id": "ef8ff924",
   "metadata": {},
   "source": [
    "<a id='K-means'></a>\n",
    "## 5.2 Kmeans"
   ]
  },
  {
   "cell_type": "markdown",
   "id": "644a0b62",
   "metadata": {},
   "source": [
    "O algoritmo K-means é um método de agrupamento que visa particionar n observações em k clusters nos quais cada observação pertence ao cluster com a média mais próxima. O algoritmo funciona iterativamente para atribuir cada ponto de dados ao cluster cujo centroide (a média aritmética de todos os pontos de dados que pertencem ao cluster) é o mais próximo. Ele continua fazendo isso até que a soma das distâncias quadradas dos pontos de dados de seus respectivos centroides de cluster não possa ser minimizada mais.\n",
    "\n",
    "A fórmula para calcular o centróide de um cluster é a seguinte:\n",
    "\n",
    "\\begin{equation}\n",
    "C_i = \\frac{1}{n}\\sum_{j=1}^{n} x_j\n",
    "\\end{equation}\n",
    "\n",
    "\n",
    "Onde:\n",
    "\n",
    "- (C_i) é o centróide do cluster.\n",
    "- (n) é o número de pontos de dados no cluster.\n",
    "- (x_j) é o j-ésimo ponto de dados no cluster."
   ]
  },
  {
   "cell_type": "code",
   "execution_count": 15,
   "id": "e419c367",
   "metadata": {},
   "outputs": [],
   "source": [
    "# Cria o modelo KMeans com 3 clusters\n",
    "kmeans_meli = KMeans(n_clusters=3, n_init=10, random_state=123)\n",
    "\n",
    "# Ajusta o modelo aos dados\n",
    "kmeans_meli.fit(X)\n",
    "\n",
    "# Obtém os rótulos dos clusters\n",
    "labels = kmeans_meli.labels_\n",
    "\n",
    "# Adiciona os rótulos dos clusters ao seu DataFrame\n",
    "df['Cluster'] = labels"
   ]
  },
  {
   "cell_type": "code",
   "execution_count": 16,
   "id": "5ec41558",
   "metadata": {},
   "outputs": [
    {
     "data": {
      "image/png": "[encoded data removed]",
      "text/plain": [
       "<Figure size 810.361x750 with 12 Axes>"
      ]
     },
     "metadata": {},
     "output_type": "display_data"
    }
   ],
   "source": [
    "# Define a paleta de cores\n",
    "palette = [\"blue\",\"green\", \"red\"]\n",
    "\n",
    "# pairplot com 4 grupos\n",
    "sns.pairplot(df[['Visitas', 'Estrelas', 'Cluster', 'Preço']], hue='Cluster', palette=palette)\n",
    "plt.show()"
   ]
  },
  {
   "cell_type": "code",
   "execution_count": 17,
   "id": "93e86572",
   "metadata": {},
   "outputs": [],
   "source": [
    "# Calcula a média de cada variável para cada cluster\n",
    "median_values = X.groupby(df['Cluster']).median()"
   ]
  },
  {
   "cell_type": "code",
   "execution_count": 18,
   "id": "75646c51",
   "metadata": {},
   "outputs": [
    {
     "data": {
      "text/html": [
       "<div>\n",
       "<style scoped>\n",
       "    .dataframe tbody tr th:only-of-type {\n",
       "        vertical-align: middle;\n",
       "    }\n",
       "\n",
       "    .dataframe tbody tr th {\n",
       "        vertical-align: top;\n",
       "    }\n",
       "\n",
       "    .dataframe thead th {\n",
       "        text-align: right;\n",
       "    }\n",
       "</style>\n",
       "<table border=\"1\" class=\"dataframe\">\n",
       "  <thead>\n",
       "    <tr style=\"text-align: right;\">\n",
       "      <th></th>\n",
       "      <th>Preço</th>\n",
       "      <th>Visitas</th>\n",
       "      <th>Estrelas</th>\n",
       "    </tr>\n",
       "    <tr>\n",
       "      <th>Cluster</th>\n",
       "      <th></th>\n",
       "      <th></th>\n",
       "      <th></th>\n",
       "    </tr>\n",
       "  </thead>\n",
       "  <tbody>\n",
       "    <tr>\n",
       "      <th>0</th>\n",
       "      <td>740.00</td>\n",
       "      <td>-1.0</td>\n",
       "      <td>-1.00</td>\n",
       "    </tr>\n",
       "    <tr>\n",
       "      <th>1</th>\n",
       "      <td>1494.00</td>\n",
       "      <td>60461.5</td>\n",
       "      <td>1.85</td>\n",
       "    </tr>\n",
       "    <tr>\n",
       "      <th>2</th>\n",
       "      <td>914.77</td>\n",
       "      <td>20542.0</td>\n",
       "      <td>-1.00</td>\n",
       "    </tr>\n",
       "  </tbody>\n",
       "</table>\n",
       "</div>"
      ],
      "text/plain": [
       "           Preço  Visitas  Estrelas\n",
       "Cluster                            \n",
       "0         740.00     -1.0     -1.00\n",
       "1        1494.00  60461.5      1.85\n",
       "2         914.77  20542.0     -1.00"
      ]
     },
     "execution_count": 18,
     "metadata": {},
     "output_type": "execute_result"
    }
   ],
   "source": [
    "median_values"
   ]
  },
  {
   "cell_type": "markdown",
   "id": "27f0c91a",
   "metadata": {},
   "source": [
    "- Observamos que o cluster **0 (azul)**, se refere aos produtos novos, poucas visita ou sem avaliações. Mas com boa concentração de baixo preço **\"Desconhecidos baratos\"**\n",
    "- Fica nítido que o cluster **1 (verde)**, representa o grupo **\"Aclamados\"**, tem uma media alta de Visitas e uma boa média de estrelas, porém uma média mais alta no preço.\n",
    "- O grupo **2 (Vermelho)** Tem muitas visitas comparadas a avaliações e preço em conta, por isso vamos definir como **\"Baratos de qualidade variada\"**"
   ]
  },
  {
   "cell_type": "code",
   "execution_count": 19,
   "id": "855b6ec6",
   "metadata": {},
   "outputs": [],
   "source": [
    "# Define um dicionário que mapeia os rótulos dos clusters para os nomes dos grupos\n",
    "cluster_names = {\n",
    "    0: \"Desconhecidos baratos\",\n",
    "    1: \"Aclamados\",\n",
    "    2: \"Baratos de qualidade variada\"\n",
    "}\n",
    "\n",
    "# Cria uma nova coluna 'Grupo' que contém o nome do grupo para cada observação\n",
    "df['Grupo'] = df['Cluster'].map(cluster_names)"
   ]
  },
  {
   "cell_type": "code",
   "execution_count": 20,
   "id": "d7176edd",
   "metadata": {},
   "outputs": [
    {
     "data": {
      "text/plain": [
       "['kmeans_meli.joblib']"
      ]
     },
     "execution_count": 20,
     "metadata": {},
     "output_type": "execute_result"
    }
   ],
   "source": [
    "from joblib import dump\n",
    "\n",
    "# Suponha que 'model' é o seu modelo treinado\n",
    "dump(kmeans_meli, 'kmeans_meli.joblib')"
   ]
  }
 ],
 "metadata": {
  "kernelspec": {
   "display_name": "Python 3 (ipykernel)",
   "language": "python",
   "name": "python3"
  },
  "language_info": {
   "codemirror_mode": {
    "name": "ipython",
    "version": 3
   },
   "file_extension": ".py",
   "mimetype": "text/x-python",
   "name": "python",
   "nbconvert_exporter": "python",
   "pygments_lexer": "ipython3",
   "version": "3.10.9"
  }
 },
 "nbformat": 4,
 "nbformat_minor": 5
}
